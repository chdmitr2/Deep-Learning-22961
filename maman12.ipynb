{
  "nbformat": 4,
  "nbformat_minor": 0,
  "metadata": {
    "colab": {
      "provenance": [],
      "authorship_tag": "ABX9TyOeNjyHBR9STvCJ8GYiU190",
      "include_colab_link": true
    },
    "kernelspec": {
      "name": "python3",
      "display_name": "Python 3"
    },
    "language_info": {
      "name": "python"
    }
  },
  "cells": [
    {
      "cell_type": "markdown",
      "metadata": {
        "id": "view-in-github",
        "colab_type": "text"
      },
      "source": [
        "<a href=\"https://colab.research.google.com/github/chdmitr2/Deep-Learning-22961/blob/main/maman12.ipynb\" target=\"_parent\"><img src=\"https://colab.research.google.com/assets/colab-badge.svg\" alt=\"Open In Colab\"/></a>"
      ]
    },
    {
      "cell_type": "markdown",
      "source": [
        "**Maman 12**\n",
        "\n",
        "**Dmitriy Chudnovsky 324793900**\n",
        "\n",
        "**Question 1**\n",
        "\n",
        "**Part A** **implements the my_sampler(size, dist, requires_grad=False) function** **that:**    \n",
        "\n",
        "*  Checks that all probabilities in dist are positive and sum to 1.\n",
        "*   Samples discretely from that distribution to produce a tensor of shape size.\n",
        "*   Uses only one loop that begins exactly with for i in range(len(dist)-1):."
      ],
      "metadata": {
        "id": "bXmwq0pgD9bV"
      }
    },
    {
      "cell_type": "code",
      "source": [
        "import torch\n",
        "import matplotlib.pyplot as plt\n",
        "\n",
        "\n",
        "def my_sampler(size, dist, requires_grad=False):\n",
        "    # Convert size to tuple if it is an integer\n",
        "    if isinstance(size, int):\n",
        "        size = (size,)\n",
        "\n",
        "    # Convert dist to tensor if it's a list\n",
        "    if not isinstance(dist, torch.Tensor):\n",
        "        dist = torch.tensor(dist, dtype=torch.float)\n",
        "\n",
        "    # Validation checks\n",
        "    assert (dist > 0).all(), \"All probabilities must be positive.\"\n",
        "    assert torch.allclose(dist.sum(), torch.tensor(1.0)), \"Probabilities must sum to 1.\"\n",
        "\n",
        "    with torch.no_grad():\n",
        "        # Compute cumulative distribution\n",
        "        cdist = torch.cumsum(dist, dim=0)\n",
        "\n",
        "        # Sample uniform random values in the given shape\n",
        "        U = torch.rand(size)\n",
        "\n",
        "        # Initialize samples with -1\n",
        "        samples = torch.full(size, -1, dtype=torch.long)\n",
        "\n",
        "        # Assign categories using a single loop\n",
        "        for i in range(len(dist) - 1):\n",
        "            mask = (samples == -1) & (U < cdist[i])\n",
        "            samples[mask] = i\n",
        "\n",
        "        # Remaining values are assigned to the last category\n",
        "        samples[samples == -1] = len(dist) - 1\n",
        "\n",
        "    # Convert to float for gradient support\n",
        "    samples = samples.to(torch.float)\n",
        "    samples.requires_grad_(requires_grad)\n",
        "    return samples\n",
        "\n",
        "# Example usage:\n",
        "\n",
        "print(my_sampler(10,[0.5,0.5]))\n",
        "A=my_sampler((2,8),[0.1,0.2,0.7],requires_grad=True)\n",
        "print(A,A.grad,sep='\\n')\n"
      ],
      "metadata": {
        "colab": {
          "base_uri": "https://localhost:8080/"
        },
        "id": "csZ7ATbyF-DE",
        "outputId": "673d3807-0915-4d5b-a300-0473f67a5678"
      },
      "execution_count": 4,
      "outputs": [
        {
          "output_type": "stream",
          "name": "stdout",
          "text": [
            "tensor([0., 0., 1., 1., 1., 0., 1., 1., 0., 0.])\n",
            "tensor([[1., 2., 2., 2., 2., 2., 2., 0.],\n",
            "        [2., 2., 2., 2., 1., 2., 1., 1.]], requires_grad=True)\n",
            "None\n"
          ]
        }
      ]
    },
    {
      "cell_type": "markdown",
      "source": [
        "**Part B: Drawing Samples and Plotting**\n",
        "\n",
        "Below is an example of drawing 10,000 samples from the distribution [0.7, 0.2, 0.1] and showing a histogram via matplotlib."
      ],
      "metadata": {
        "id": "6C-VSb9fGWiT"
      }
    },
    {
      "cell_type": "code",
      "source": [
        "\n",
        "# Example usage:\n",
        "\n",
        "samples = my_sampler(10_000, [0.7, 0.2, 0.1])\n",
        "plt.hist(samples.numpy(), bins=[-0.5, 0.5, 1.5, 2.5], rwidth=0.8)\n",
        "plt.xticks([0, 1, 2])\n",
        "plt.title(\"Histogram of Samples\")\n",
        "plt.xlabel(\"Category\")\n",
        "plt.ylabel(\"Count\")\n",
        "plt.show()\n"
      ],
      "metadata": {
        "colab": {
          "base_uri": "https://localhost:8080/",
          "height": 472
        },
        "id": "ufiP0sR7GenW",
        "outputId": "f4a460b1-8fae-4fde-9041-3e10c891aa60"
      },
      "execution_count": 5,
      "outputs": [
        {
          "output_type": "display_data",
          "data": {
            "text/plain": [
              "<Figure size 640x480 with 1 Axes>"
            ],
            "image/png": "[encoded data removed]"
          },
          "metadata": {}
        }
      ]
    },
    {
      "cell_type": "markdown",
      "source": [
        "**Question 2**\n",
        "\n",
        "We create a new MyScalar by calling one of the functions (add, mul, power, exp, etc.), we record:\n",
        "\n",
        "1.   The numeric value of the new scalar.\n",
        "2.   The partial derivatives with respect to the input(s).\n",
        "3.   Which MyScalar(s) it came from (the “parents”)."
      ],
      "metadata": {
        "id": "AfiChSwtIJtB"
      }
    },
    {
      "cell_type": "code",
      "source": [
        "import math\n",
        "\n",
        "class MyScalar:\n",
        "    def __init__(self, value):\n",
        "        self.value = float(value)  # store as float\n",
        "        self.grad = 0.0\n",
        "        self.parent = None\n",
        "        self.local_grad_wrt_parent = 0.0\n",
        "\n",
        "    def __repr__(self):\n",
        "        return f\"MyScalar(value={self.value}, grad={self.grad})\"\n",
        "\n",
        "def add(a, b):\n",
        "    if isinstance(b, MyScalar):\n",
        "        raise NotImplementedError(\"For single-input AD, we only implement a + constant.\")\n",
        "    c_value = a.value + b\n",
        "    c = MyScalar(c_value)\n",
        "    c.parent = a\n",
        "    c.local_grad_wrt_parent = 1.0\n",
        "    return c\n",
        "\n",
        "def mul(a, b):\n",
        "    if isinstance(b, MyScalar):\n",
        "        raise NotImplementedError(\"For single-input AD, we only implement a * constant.\")\n",
        "    c_value = a.value * b\n",
        "    c = MyScalar(c_value)\n",
        "    c.parent = a\n",
        "    c.local_grad_wrt_parent = b\n",
        "    return c\n",
        "\n",
        "def power(a, exponent):\n",
        "    c_value = a.value ** exponent\n",
        "    c = MyScalar(c_value)\n",
        "    # derivative wrt a is exponent * a^(exponent-1)\n",
        "    c.parent = a\n",
        "    c.local_grad_wrt_parent = exponent * (a.value ** (exponent - 1))\n",
        "    return c\n",
        "\n",
        "def sin(a):\n",
        "    c_value = math.sin(a.value)\n",
        "    c = MyScalar(c_value)\n",
        "    c.parent = a\n",
        "    c.local_grad_wrt_parent = math.cos(a.value)\n",
        "    return c\n",
        "\n",
        "def cos(a):\n",
        "    c_value = math.cos(a.value)\n",
        "    c = MyScalar(c_value)\n",
        "    c.parent = a\n",
        "    c.local_grad_wrt_parent = -math.sin(a.value)\n",
        "    return c\n",
        "\n",
        "def ln(a):\n",
        "    c_value = math.log(a.value)\n",
        "    c = MyScalar(c_value)\n",
        "    c.parent = a\n",
        "    c.local_grad_wrt_parent = 1.0 / a.value\n",
        "    return c\n",
        "\n",
        "def exp(a):\n",
        "    c_value = math.exp(a.value)\n",
        "    c = MyScalar(c_value)\n",
        "    c.parent = a\n",
        "    # local grad wrt a is e^(a.value) = c.value\n",
        "    c.local_grad_wrt_parent = c.value\n",
        "    return c"
      ],
      "metadata": {
        "id": "VJhxJ7-FzxPg"
      },
      "execution_count": 6,
      "outputs": []
    },
    {
      "cell_type": "markdown",
      "source": [
        "A call to get_gradient(final_scalar) will then:\n",
        "\n",
        "*   Reset all .grad to 0 in the relevant subgraph.\n",
        "*   Set final_scalar.grad = 1.0.\n",
        "*   Propagate backward using the chain rule to all ancestors, summing up their gradients.\n",
        "*    Return a dictionary of [scalar -> scalar.grad]."
      ],
      "metadata": {
        "id": "sJwJXGCUy_nF"
      }
    },
    {
      "cell_type": "code",
      "source": [
        "def get_gradient(final_scalar):\n",
        "    \"\"\"\n",
        "    Single-parent chain AD:\n",
        "    We do one pass back through the parents to accumulate the gradients.\n",
        "    \"\"\"\n",
        "\n",
        "    # Gather all ancestors by following .parent\n",
        "    visited = []\n",
        "    stack = [final_scalar]\n",
        "    while stack:\n",
        "        node = stack.pop()\n",
        "        if node not in visited:\n",
        "            visited.append(node)\n",
        "            if node.parent is not None:\n",
        "                stack.append(node.parent)\n",
        "\n",
        "    # Zero all .grad\n",
        "    for n in visited:\n",
        "        n.grad = 0.0\n",
        "\n",
        "    # final node’s gradient is 1\n",
        "    final_scalar.grad = 1.0\n",
        "\n",
        "    # Walk back from final_scalar up to the root\n",
        "    cur = final_scalar\n",
        "    while cur.parent is not None:\n",
        "        p = cur.parent\n",
        "        p.grad += cur.grad * cur.local_grad_wrt_parent\n",
        "        cur = p\n",
        "\n",
        "    return {n: n.grad for n in visited}\n",
        "\n",
        "# Example usage\n",
        "a = MyScalar(2)     # a = 2\n",
        "b = power(a, 2)     # b = a^2\n",
        "c = exp(b)          # c = e^(b)\n",
        "grads = get_gradient(c)\n",
        "\n",
        "print(\"a =\", a)\n",
        "print(\"b =\", b)\n",
        "print(\"c =\", c)\n",
        "print(\"Gradients:\")\n",
        "for node, val in grads.items():\n",
        "    print(node, val)\n",
        "\n",
        "# Expected:\n",
        "# grads[a] = e^(a^2)*2a   --> e^4 * (2*2) = e^4 * 4\n",
        "# grads[b] = e^(b)       --> e^4\n",
        "# grads[c] = 1"
      ],
      "metadata": {
        "colab": {
          "base_uri": "https://localhost:8080/"
        },
        "id": "WMN5pmL6zB_o",
        "outputId": "85063d3c-6949-4d87-ce50-9da8a02b3d32"
      },
      "execution_count": 7,
      "outputs": [
        {
          "output_type": "stream",
          "name": "stdout",
          "text": [
            "a = MyScalar(value=2.0, grad=218.39260013257694)\n",
            "b = MyScalar(value=4.0, grad=54.598150033144236)\n",
            "c = MyScalar(value=54.598150033144236, grad=1.0)\n",
            "Gradients:\n",
            "MyScalar(value=54.598150033144236, grad=1.0) 1.0\n",
            "MyScalar(value=4.0, grad=54.598150033144236) 54.598150033144236\n",
            "MyScalar(value=2.0, grad=218.39260013257694) 218.39260013257694\n"
          ]
        }
      ]
    }
  ]
}