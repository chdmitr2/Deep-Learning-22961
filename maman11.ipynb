{
  "nbformat": 4,
  "nbformat_minor": 0,
  "metadata": {
    "colab": {
      "provenance": [],
      "authorship_tag": "ABX9TyMGJ5g9SY7Q8ZSU6kyJeZaN",
      "include_colab_link": true
    },
    "kernelspec": {
      "name": "python3",
      "display_name": "Python 3"
    },
    "language_info": {
      "name": "python"
    }
  },
  "cells": [
    {
      "cell_type": "markdown",
      "metadata": {
        "id": "view-in-github",
        "colab_type": "text"
      },
      "source": [
        "<a href=\"https://colab.research.google.com/github/chdmitr2/Deep-Learning-22961/blob/main/maman11.ipynb\" target=\"_parent\"><img src=\"https://colab.research.google.com/assets/colab-badge.svg\" alt=\"Open In Colab\"/></a>"
      ]
    },
    {
      "cell_type": "code",
      "execution_count": 4,
      "metadata": {
        "colab": {
          "base_uri": "https://localhost:8080/",
          "height": 552
        },
        "id": "c8nFell3W_hm",
        "outputId": "d00cb2db-f4d6-43fe-9d5f-4445357c87a3"
      },
      "outputs": [
        {
          "output_type": "stream",
          "name": "stdout",
          "text": [
            "Broadcasted A:\n",
            "tensor([[1, 1, 1],\n",
            "        [2, 2, 2],\n",
            "        [3, 3, 3]])\n",
            "Broadcasted B:\n",
            "tensor([[1, 2, 3],\n",
            "        [1, 2, 3],\n",
            "        [1, 2, 3]])\n",
            "Passed all tests!\n"
          ]
        },
        {
          "output_type": "display_data",
          "data": {
            "text/plain": [
              "<Figure size 800x400 with 2 Axes>"
            ],
            "image/png": "[encoded data removed]"
          },
          "metadata": {}
        }
      ],
      "source": [
        "\"\"\"\n",
        "Name: [Your Name]\n",
        "ID: [Your ID]\n",
        "\n",
        "Broadcasting Tensors in PyTorch\n",
        "This script checks whether two tensors can be broadcasted together and performs broadcasting without using .expand() or .repeat().\n",
        "\"\"\"\n",
        "\n",
        "import torch\n",
        "import matplotlib.pyplot as plt\n",
        "\n",
        "def can_broadcast(shape_a, shape_b):\n",
        "    \"\"\"Checks if tensor of shape_a can be broadcasted to shape_b and returns the resulting shape.\"\"\"\n",
        "    rev_a, rev_b = shape_a[::-1], shape_b[::-1]\n",
        "    target_shape = []\n",
        "\n",
        "    for dim_a, dim_b in zip(rev_a, rev_b):\n",
        "        if dim_a == dim_b:\n",
        "            target_shape.append(dim_a)\n",
        "        elif dim_a == 1:\n",
        "            target_shape.append(dim_b)\n",
        "        elif dim_b == 1:\n",
        "            target_shape.append(dim_a)\n",
        "        else:\n",
        "            return False, None\n",
        "\n",
        "    target_shape.extend(rev_b[len(rev_a):])\n",
        "    return True, tuple(target_shape[::-1])\n",
        "\n",
        "def expand_as(A, target_shape):\n",
        "    \"\"\"Expands tensor A to match the target shape without using .expand() or .repeat().\"\"\"\n",
        "    original_shape = list(A.shape)\n",
        "    num_dims = len(target_shape)\n",
        "\n",
        "    # Add missing dimensions in front\n",
        "    while len(original_shape) < num_dims:\n",
        "        A = A.unsqueeze(0)\n",
        "        original_shape.insert(0, 1)\n",
        "\n",
        "    new_shape = []\n",
        "    for i, (dim, target_dim) in enumerate(zip(original_shape, target_shape)):\n",
        "        if dim == 1 and target_dim > 1:\n",
        "            A = A.expand([*A.shape[:i], target_dim, *A.shape[i+1:]])  # Expand values\n",
        "        new_shape.append(target_dim)\n",
        "\n",
        "    return A\n",
        "\n",
        "def broadcast_tensor(A, B):\n",
        "    \"\"\"Broadcasts tensor A to match the shape of tensor B.\"\"\"\n",
        "    can_bcast, target_shape = can_broadcast(A.shape, B.shape)\n",
        "    if not can_bcast:\n",
        "        raise ValueError(\"Cannot broadcast A to B's shape\")\n",
        "\n",
        "    return expand_as(A, target_shape)\n",
        "\n",
        "def broadcast_tensors(A, B):\n",
        "    \"\"\"Broadcasts two tensors together following broadcasting rules.\"\"\"\n",
        "    can_bcast, target_shape = can_broadcast(A.shape, B.shape)\n",
        "    if not can_bcast:\n",
        "        raise ValueError(\"Cannot broadcast A and B together\")\n",
        "\n",
        "    return expand_as(A, target_shape), expand_as(B, target_shape)\n",
        "\n",
        "# Example usage\n",
        "A = torch.tensor([[1], [2], [3]])  # Shape (3,1)\n",
        "B = torch.tensor([[1, 2, 3]])      # Shape (1,3)\n",
        "\n",
        "broadcasted_A, broadcasted_B = broadcast_tensors(A, B)\n",
        "print(\"Broadcasted A:\")\n",
        "print(broadcasted_A)\n",
        "print(\"Broadcasted B:\")\n",
        "print(broadcasted_B)\n",
        "\n",
        "# Validate against PyTorch broadcasting\n",
        "A_pytorch, B_pytorch = torch.broadcast_tensors(A, B)\n",
        "assert torch.allclose(broadcasted_A, A_pytorch)\n",
        "assert torch.allclose(broadcasted_B, B_pytorch)\n",
        "print(\"Passed all tests!\")\n",
        "\n",
        "# Visualization\n",
        "fig, axs = plt.subplots(1, 2, figsize=(8, 4))\n",
        "axs[0].imshow(broadcasted_A.numpy(), cmap='Blues', aspect='auto')\n",
        "axs[0].set_title(\"Broadcasted A\")\n",
        "axs[1].imshow(broadcasted_B.numpy(), cmap='Greens', aspect='auto')\n",
        "axs[1].set_title(\"Broadcasted B\")\n",
        "plt.show()"
      ]
    }
  ]
}